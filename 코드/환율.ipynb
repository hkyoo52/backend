{
 "cells": [
  {
   "cell_type": "code",
   "execution_count": 1,
   "metadata": {},
   "outputs": [
    {
     "name": "stdout",
     "output_type": "stream",
     "text": [
      "4\n"
     ]
    }
   ],
   "source": [
    "s='apple'\n",
    "print(s.find('e'))"
   ]
  },
  {
   "cell_type": "code",
   "execution_count": 2,
   "metadata": {},
   "outputs": [
    {
     "name": "stdout",
     "output_type": "stream",
     "text": [
      "10\n"
     ]
    }
   ],
   "source": [
    "s='제 생일은 10월 입니다'\n",
    "arr = s.split('생일은 ')\n",
    "s=arr[1]\n",
    "print(s.split('월')[0])"
   ]
  },
  {
   "cell_type": "code",
   "execution_count": 3,
   "metadata": {},
   "outputs": [
    {
     "name": "stdout",
     "output_type": "stream",
     "text": [
      "1076\n"
     ]
    }
   ],
   "source": [
    "import requests as req\n",
    "\n",
    "res = req.get('https://finance.naver.com/marketindex/?tabSel=exchange#tab_section')\n",
    "\n",
    "html = res.text\n",
    "pos = html.find('미국 USD')\n",
    "print(pos)"
   ]
  },
  {
   "cell_type": "code",
   "execution_count": 11,
   "metadata": {},
   "outputs": [
    {
     "ename": "IndexError",
     "evalue": "list index out of range",
     "output_type": "error",
     "traceback": [
      "\u001b[1;31m---------------------------------------------------------------------------\u001b[0m",
      "\u001b[1;31mIndexError\u001b[0m                                Traceback (most recent call last)",
      "\u001b[1;32m~\\AppData\\Local\\Temp/ipykernel_23120/2918870914.py\u001b[0m in \u001b[0;36m<module>\u001b[1;34m\u001b[0m\n\u001b[0;32m      5\u001b[0m \u001b[0mhtml\u001b[0m \u001b[1;33m=\u001b[0m \u001b[0mres\u001b[0m\u001b[1;33m.\u001b[0m\u001b[0mtext\u001b[0m\u001b[1;33m\u001b[0m\u001b[1;33m\u001b[0m\u001b[0m\n\u001b[0;32m      6\u001b[0m \u001b[1;33m\u001b[0m\u001b[0m\n\u001b[1;32m----> 7\u001b[1;33m \u001b[0ms\u001b[0m\u001b[1;33m=\u001b[0m\u001b[0mhtml\u001b[0m\u001b[1;33m.\u001b[0m\u001b[0msplit\u001b[0m\u001b[1;33m(\u001b[0m\u001b[1;34m'<td class=\"sale\">'\u001b[0m\u001b[1;33m)\u001b[0m\u001b[1;33m[\u001b[0m\u001b[1;36m1\u001b[0m\u001b[1;33m]\u001b[0m\u001b[1;33m.\u001b[0m\u001b[0msplit\u001b[0m\u001b[1;33m(\u001b[0m\u001b[1;34m'</td>'\u001b[0m\u001b[1;33m)\u001b[0m\u001b[1;33m[\u001b[0m\u001b[1;36m0\u001b[0m\u001b[1;33m]\u001b[0m\u001b[1;33m\u001b[0m\u001b[1;33m\u001b[0m\u001b[0m\n\u001b[0m\u001b[0;32m      8\u001b[0m \u001b[0mprint\u001b[0m\u001b[1;33m(\u001b[0m\u001b[0ms\u001b[0m\u001b[1;33m)\u001b[0m\u001b[1;33m\u001b[0m\u001b[1;33m\u001b[0m\u001b[0m\n",
      "\u001b[1;31mIndexError\u001b[0m: list index out of range"
     ]
    }
   ],
   "source": [
    "import requests as req\n",
    "\n",
    "res = req.get('https://finance.naver.com/marketindex/?tabSel=exchange#tab_section')\n",
    "\n",
    "html = res.text\n",
    "\n",
    "s=html.split('<td class=\"sale\">')[1].split('</td>')[0]\n",
    "print(s)"
   ]
  },
  {
   "cell_type": "markdown",
   "metadata": {},
   "source": [
    "### 정규식\n",
    "* 줄여서 regex\n",
    "* 패턴 검색 기법 \n",
    "* seriali[sz]e -> s나z 둘중 하나가 있는 단어 (serialise or serialize)\n",
    "* colou?r -> u가 있어도 되고 없어도 되고 (color or colour)\n",
    "\n",
    "* () : 캡쳐\n",
    "* [] : 이 중 아무거나\n",
    "* -. : 아무거나\n",
    "* '*' : 0개 이상\n",
    "* '+' : 1개 이상\n",
    "* ? : 없을 수도\n",
    "* \\ : 특수기호 무효화\n"
   ]
  },
  {
   "cell_type": "code",
   "execution_count": 20,
   "metadata": {},
   "outputs": [
    {
     "name": "stdout",
     "output_type": "stream",
     "text": [
      "<re.Match object; span=(0, 2), match='hi'>\n",
      "<re.Match object; span=(0, 2), match='hi'>\n",
      "None\n"
     ]
    }
   ],
   "source": [
    "import re\n",
    "s = 'hi'\n",
    "print(re.match(r'hi',s)) # hi와 s 가 동일한 것이냐\n",
    "print(re.match(r'hi1*',s)) # s에 hi1가 0개 이상이라서 가능\n",
    "print(re.match(r'hi1+',s)) # s에 hi1가 1개 이상 아니라서 불가능"
   ]
  },
  {
   "cell_type": "code",
   "execution_count": 25,
   "metadata": {},
   "outputs": [
    {
     "name": "stdout",
     "output_type": "stream",
     "text": [
      "<re.Match object; span=(0, 13), match='이 영화는 C등급 입니다'>\n",
      "[('영화', 'C')]\n"
     ]
    }
   ],
   "source": [
    "s = '이 영화는 C등급 입니다'\n",
    "print(re.match(r'이 영화는 .등급 입니다',s))\n",
    "print(re.findall(r'이 (..)는 (.)등급 입니다',s)) # () 안에 있는거 찾아줌"
   ]
  },
  {
   "cell_type": "code",
   "execution_count": 30,
   "metadata": {},
   "outputs": [
    {
     "name": "stdout",
     "output_type": "stream",
     "text": [
      "['1,315.50']\n"
     ]
    }
   ],
   "source": [
    "import requests as req\n",
    "import re\n",
    "\n",
    "url = 'https://finance.naver.com/marketindex/?tabSel=exchange#tab_section'\n",
    "res = req.get(url)\n",
    "body = res.text\n",
    "\n",
    "# 정규식 패턴 찾기\n",
    "# 문자 사이에 \" 나올경우 \\ 붙여준다\n",
    "# DOTALL : 모두 찾는다. (문서끝까지)\n",
    "# ? 가져올 수 있는 범위에서 가장 작게 가져온다.\n",
    "r = re.compile(r\"미국 USD.*?value\\\">(.*?)</\", re.DOTALL)  # value\"> 나올때까지 찾도록 \n",
    "captures = r.findall(body)\n",
    "print(captures)"
   ]
  },
  {
   "cell_type": "code",
   "execution_count": 32,
   "metadata": {},
   "outputs": [
    {
     "name": "stdout",
     "output_type": "stream",
     "text": [
      "[('미국 USD', '1,315.50'), ('원', '952.74'), ('원', '1,340.23'), ('원', '194.97'), ('원', '138.0100'), ('엔', '1.0193'), ('달러', '1.2025'), ('달러', '107.9100'), ('하락', '97.59'), ('달러', '2024.6'), ('원', '1703.6'), ('달러', '72571.74')]\n"
     ]
    }
   ],
   "source": [
    "import requests as req\n",
    "import re\n",
    "\n",
    "url = 'https://finance.naver.com/marketindex/?tabSel=exchange#tab_section'\n",
    "res = req.get(url)\n",
    "body = res.text\n",
    "\n",
    "# 정규식 패턴 찾기\n",
    "# blind\">이후</span>앞에것을 가져온다. 그리고 쭉 문자가 있다가 가장 가까이 있는 value\">이후</\"앞에 것을 가져온다.\n",
    "r = re.compile(r\"blind\\\">(.*?)</span>.*?value\\\">(.*?)</\", re.DOTALL)  # value\"> 나올때까지 찾도록 \n",
    "captures = r.findall(body)\n",
    "print(captures)"
   ]
  },
  {
   "cell_type": "code",
   "execution_count": null,
   "metadata": {},
   "outputs": [],
   "source": []
  }
 ],
 "metadata": {
  "kernelspec": {
   "display_name": "Python 3.9.7 ('base')",
   "language": "python",
   "name": "python3"
  },
  "language_info": {
   "codemirror_mode": {
    "name": "ipython",
    "version": 3
   },
   "file_extension": ".py",
   "mimetype": "text/x-python",
   "name": "python",
   "nbconvert_exporter": "python",
   "pygments_lexer": "ipython3",
   "version": "3.9.7"
  },
  "orig_nbformat": 4,
  "vscode": {
   "interpreter": {
    "hash": "7cadea6d37f70d316c5ee262e295cc04b14544d32c4daea76c56a7a27e375827"
   }
  }
 },
 "nbformat": 4,
 "nbformat_minor": 2
}
